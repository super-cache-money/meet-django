{
 "cells": [
  {
   "cell_type": "markdown",
   "metadata": {
    "collapsed": true,
    "slideshow": {
     "slide_type": "slide"
    }
   },
   "source": [
    "# Django\n",
    "\n",
    "\n",
    "\n",
    "## An open source web framework, for python.\n",
    "\n",
    "PS: The Jozihub wifi password is `J0ziHub!`\n"
   ]
  },
  {
   "cell_type": "markdown",
   "metadata": {
    "collapsed": true,
    "slideshow": {
     "slide_type": "slide"
    }
   },
   "source": [
    "# Why django?\n",
    "\n",
    "* Django is stable\n",
    "* Django has a great community\n",
    "* Django has comprehensive documentation\n",
    "* Django is batteries included"
   ]
  },
  {
   "cell_type": "markdown",
   "metadata": {
    "slideshow": {
     "slide_type": "slide"
    }
   },
   "source": [
    "# Word on the street\n",
    "\n",
    "### \"Django does a lot for you\"\n",
    "-Yash Nelapati (Pinterest)\n",
    "\n",
    "### \"Django is a robust framework\"\n",
    "-Matt Robenolt (Disqus)\n",
    "\n",
    "### \"Django runs on just over 25 Amazon High-CPU Extra-Large machines\"\n",
    "-Instagram engineering\n"
   ]
  },
  {
   "cell_type": "markdown",
   "metadata": {
    "slideshow": {
     "slide_type": "slide"
    }
   },
   "source": [
    "# Let's dive in"
   ]
  },
  {
   "cell_type": "markdown",
   "metadata": {
    "slideshow": {
     "slide_type": "fragment"
    }
   },
   "source": [
    "## Are you ready?"
   ]
  },
  {
   "cell_type": "markdown",
   "metadata": {
    "slideshow": {
     "slide_type": "fragment"
    }
   },
   "source": [
    "### Either way it's too late."
   ]
  },
  {
   "cell_type": "markdown",
   "metadata": {
    "collapsed": true,
    "slideshow": {
     "slide_type": "slide"
    }
   },
   "source": [
    "## First steps with Django\n",
    "\n",
    "You can tell Django is installed and which version by running the following command:"
   ]
  },
  {
   "cell_type": "code",
   "execution_count": 7,
   "metadata": {
    "collapsed": false,
    "slideshow": {
     "slide_type": "-"
    }
   },
   "outputs": [
    {
     "data": {
      "text/plain": [
       "(1, 9, 5, 'final', 0)"
      ]
     },
     "execution_count": 7,
     "metadata": {},
     "output_type": "execute_result"
    }
   ],
   "source": [
    "import django\n",
    "django.VERSION"
   ]
  },
  {
   "cell_type": "markdown",
   "metadata": {
    "collapsed": true,
    "slideshow": {
     "slide_type": "slide"
    }
   },
   "source": [
    "\n",
    "\n",
    "From the terminal / command line, cd into a directory where you’d like to store your code, then run the following command:\n",
    "\n",
    "```\n",
    "django-admin startproject project\n",
    "```\n",
    "\n",
    "This will create a \"project\" directory in your current directory."
   ]
  },
  {
   "cell_type": "markdown",
   "metadata": {
    "slideshow": {
     "slide_type": "notes"
    }
   },
   "source": [
    "### Note\n",
    "\n",
    "You’ll need to avoid naming projects after built-in Python or Django components. In particular, this means you should avoid using names like __django__ (which will conflict with Django itself) or __test__ (which conflicts with a built-in Python package).\n",
    "\n"
   ]
  },
  {
   "cell_type": "markdown",
   "metadata": {
    "slideshow": {
     "slide_type": "slide"
    }
   },
   "source": [
    "Let’s look at what `startproject` created:\n",
    "\n",
    "```\n",
    "project/\n",
    "    manage.py\n",
    "    project/\n",
    "        __init__.py\n",
    "        settings.py\n",
    "        urls.py\n",
    "        wsgi.py\n",
    "```\n"
   ]
  },
  {
   "cell_type": "markdown",
   "metadata": {
    "slideshow": {
     "slide_type": "notes"
    }
   },
   "source": [
    "These files are:\n",
    "\n",
    " * outer **project/** root directory: is just a container for your project. Its name doesn’t matter to Django; you can rename it to anything you like.\n",
    " * **manage.py**: A command-line utility that lets you interact with this Django project in various ways. You can read all the details about manage.py in django-admin and manage.py.\n",
    " * inner **project/** directory: the actual Python package for your project. Its name is the Python package name you’ll need to use to import anything inside it (e.g. mysite.urls).\n",
    " * **project/__init__.py**: An empty file that tells Python that this directory should be considered a Python package. If you’re a Python beginner, read more about packages in the official Python docs.\n",
    " * **project/settings.py**: Settings/configuration for this Django project. Django settings will tell you all about how settings work.\n",
    "project/urls.py: The URL declarations for this Django project; a “table of contents” of your Django-powered site. You can read more about URLs in URL dispatcher.\n",
    " * **project/wsgi.py**: An entry-point for WSGI-compatible web servers to serve your project. See How to deploy with WSGI for more details."
   ]
  },
  {
   "cell_type": "markdown",
   "metadata": {
    "slideshow": {
     "slide_type": "slide"
    }
   },
   "source": [
    "### The development server\n",
    "\n",
    "Let’s verify your Django project works. Change into the outer mysite directory, if you haven’t already, and run the following commands:\n",
    "\n",
    "```\n",
    "python manage.py runserver\n",
    "```\n"
   ]
  },
  {
   "cell_type": "markdown",
   "metadata": {
    "slideshow": {
     "slide_type": "slide"
    }
   },
   "source": [
    "```\n",
    "Performing system checks...\n",
    "\n",
    "System check identified no issues (0 silenced).\n",
    "\n",
    "You have unapplied migrations; your app may not work properly until they are applied.\n",
    "Run 'python manage.py migrate' to apply them.\n",
    "\n",
    "July 21, 2016 - 15:50:53\n",
    "Django version 1.9, using settings 'mysite.settings'\n",
    "Starting development server at http://127.0.0.1:8000/\n",
    "Quit the server with CONTROL-C.\n",
    "```"
   ]
  },
  {
   "cell_type": "markdown",
   "metadata": {
    "slideshow": {
     "slide_type": "slide"
    }
   },
   "source": [
    "<img src=\"images/django-worked.png\">"
   ]
  },
  {
   "cell_type": "markdown",
   "metadata": {
    "slideshow": {
     "slide_type": "slide"
    }
   },
   "source": [
    "\n",
    "\n",
    "### Automatic reloading of runserver\n",
    "\n",
    "The development server automatically reloads Python code for each request as needed. You don’t need to restart the server for code changes to take effect. However, some actions like adding files don’t trigger a restart, so you’ll have to restart the server in these cases.\n",
    "\n",
    "(changes in html files still need to be reloaded on the browser)\n"
   ]
  },
  {
   "cell_type": "markdown",
   "metadata": {
    "slideshow": {
     "slide_type": "slide"
    }
   },
   "source": [
    "### Creating your first django app\n",
    "\n",
    "Now that your environment – a “project” – is set up, you’re set to start doing work.\n",
    "\n",
    "Each application you write in Django consists of a Python package that follows a certain convention. Django comes with a utility that automatically generates the basic directory structure of an app, so you can focus on writing code rather than creating directories."
   ]
  },
  {
   "cell_type": "markdown",
   "metadata": {
    "slideshow": {
     "slide_type": "slide"
    }
   },
   "source": [
    "### Project vs App\n",
    "\n",
    "A project refers to the entire application and all its parts.\n",
    "\n",
    "An app refers to a submodule of the application. It's, hopefully, self-contained and not intertwined with other apps in the project so that, in theory, you could pick it up and plop it down into another project without much, or any, modification. An app typically has it's own models.py (which might actually be empty). You might look at it as a python module."
   ]
  },
  {
   "cell_type": "markdown",
   "metadata": {
    "slideshow": {
     "slide_type": "slide"
    }
   },
   "source": [
    "<img src=\"images/django-structure.png\">"
   ]
  },
  {
   "cell_type": "markdown",
   "metadata": {
    "slideshow": {
     "slide_type": "notes"
    }
   },
   "source": [
    "So for your example the project is the website, and you might structure it so that there is an app for articles, and an app for ranking tables, and an app for fixtures and results, and an app for...\n",
    "\n",
    "I think the main thing to keep in mind is the level of interdependence between the apps. There's no sense in going overboard since it's all one project, but the more intertwined two apps are - such that it would be a lot of work to reuse that app in another project - then the more likely the apps would be better off merged or enclosed."
   ]
  },
  {
   "cell_type": "markdown",
   "metadata": {
    "slideshow": {
     "slide_type": "slide"
    }
   },
   "source": [
    "To create your app, run this command from the same directory as manage.py\n",
    "\n",
    "```\n",
    "python manage.py startapp mastermind\n",
    "```"
   ]
  },
  {
   "cell_type": "markdown",
   "metadata": {
    "slideshow": {
     "slide_type": "slide"
    }
   },
   "source": [
    "That’ll create a directory called game, which is laid out like this:\n",
    "\n",
    "```    \n",
    "mastermind/\n",
    "    __init__.py\n",
    "    admin.py\n",
    "    apps.py\n",
    "    migrations/\n",
    "        __init__.py\n",
    "    models.py\n",
    "    tests.py\n",
    "    views.py\n",
    "```\n"
   ]
  },
  {
   "cell_type": "markdown",
   "metadata": {
    "slideshow": {
     "slide_type": "slide"
    }
   },
   "source": [
    "### Model View Controller Pattern\n",
    "\n",
    "Notice `models.py` and `views.py`?\n",
    "\n",
    "* _Model_: The abstract data model representing the target object\n",
    "* _View_: A way to interpret the model\n",
    "* _Controller_: A way to control the view and provide the model with new data\n",
    "\n",
    "\n",
    "**MVC Example:**\n",
    "\n",
    "* _Model_: rows and columns of data\n",
    "* _View_: spreadsheet/graph\n",
    "* _Controller_: zoom/editable cells"
   ]
  },
  {
   "cell_type": "code",
   "execution_count": null,
   "metadata": {
    "collapsed": true
   },
   "outputs": [],
   "source": []
  },
  {
   "cell_type": "markdown",
   "metadata": {
    "slideshow": {
     "slide_type": "slide"
    }
   },
   "source": [
    "### Hello World Django\n",
    "\n",
    "Let’s write the first view. Open the file **mastermind/views.py** and put the following Python code in it:\n",
    "\n",
    "```python\n",
    "\n",
    "from django.http import HttpResponse\n",
    "\n",
    "\n",
    "def index(request):\n",
    "    return HttpResponse(\"Hi, hello world.\")\n",
    "\n",
    "```\n"
   ]
  },
  {
   "cell_type": "markdown",
   "metadata": {
    "slideshow": {
     "slide_type": "slide"
    }
   },
   "source": [
    "To specify how our app directs URLs to be handled, create a file called **urls.py**. Your app directory should now look like:\n",
    "\n",
    "```\n",
    "mastermind/\n",
    "    __init__.py\n",
    "    admin.py\n",
    "    apps.py\n",
    "    migrations/\n",
    "        __init__.py\n",
    "    models.py\n",
    "    tests.py\n",
    "    urls.py\n",
    "    views.py\n",
    "```"
   ]
  },
  {
   "cell_type": "markdown",
   "metadata": {
    "slideshow": {
     "slide_type": "slide"
    }
   },
   "source": [
    "Open **mastermind/urls.py** file include the following code:\n",
    "\n",
    "```\n",
    "from django.conf.urls import url\n",
    "\n",
    "from . import views\n",
    "\n",
    "urlpatterns = [\n",
    "    url(r'^$', views.index)\n",
    "]\n",
    "```"
   ]
  },
  {
   "cell_type": "markdown",
   "metadata": {
    "slideshow": {
     "slide_type": "slide"
    }
   },
   "source": [
    "### Regular Expressions\n",
    "\n",
    "Regex allows powerful and finely controlled string matching. \n",
    "\n",
    "| Regex | Matches                              |\n",
    "|-------|--------------------------------------|\n",
    "| ^     | Start of string                      |\n",
    "| $     | End of string or line                |\n",
    "| *     | Anything                             |\n",
    "| ?     | Optionally match preceding character |\n",
    "\n",
    "We use regular expressions to define what constitutes a matched URL.\n",
    "\n",
    "\n",
    "\n",
    "[Learn more about regex here](http://www.python-course.eu/re.php)"
   ]
  },
  {
   "cell_type": "markdown",
   "metadata": {
    "slideshow": {
     "slide_type": "slide"
    }
   },
   "source": [
    "The next step is to point the project's **urls.py**  at our apps'  `mastermind.urls` module. In **project/urls.py**, add an import for `django.conf.urls.include` and insert an `include()` in the urlpatterns list, so you have:\n",
    "\n",
    "```\n",
    "from django.conf.urls import include, url\n",
    "from django.contrib import admin\n",
    "\n",
    "urlpatterns = [\n",
    "    url(r'^mastermind/', include('mastermind.urls')),\n",
    "    url(r'^admin/', admin.site.urls)\n",
    "]\n",
    "```\n"
   ]
  },
  {
   "cell_type": "markdown",
   "metadata": {
    "slideshow": {
     "slide_type": "slide"
    }
   },
   "source": [
    "The `include()` function allows referencing to other URLconfs.\n",
    "\n",
    "Note that the regular expressions for the `include()` function doesn’t have a $ (end-of-string match character)\n",
    "It chops off whatever part of the URL matched up to that point and sends the remaining string to the included URLconf for further processing.\n",
    "\n",
    "This makes it easy to plug-and-play URLs."
   ]
  },
  {
   "cell_type": "markdown",
   "metadata": {
    "slideshow": {
     "slide_type": "slide"
    }
   },
   "source": [
    "Now navigate to http://127.0.0.1:8000/mastermind"
   ]
  },
  {
   "cell_type": "markdown",
   "metadata": {
    "slideshow": {
     "slide_type": "slide"
    }
   },
   "source": [
    "# Database and Models\n",
    "\n",
    "Now, open up **project/settings.py**. It’s a normal Python module with module-level variables representing Django settings.\n",
    "\n",
    "Django supports many databases servers including PostgreSQL, Oracle and MongoDB. We will be using SQLite since is included in Python and requires the least overhead to set up. \n",
    "\n",
    "If you scroll down to \"DATABASES\" you will notice options to specify the \"ENGINE\" as well as the \"NAME\" of the database."
   ]
  },
  {
   "cell_type": "markdown",
   "metadata": {
    "slideshow": {
     "slide_type": "slide"
    }
   },
   "source": [
    "More about **project/settings.py**\n",
    "\n",
    "The INSTALLED_APPS setting at the top of the file holds the names of all Django applications that get activated.\n",
    "\n",
    "By default, INSTALLED_APPS contains the following apps, all of which come with Django:\n",
    "```\n",
    "    django.contrib.admin – The admin site. \n",
    "    django.contrib.auth – An authentication system.\n",
    "    django.contrib.contenttypes – A framework for content types.\n",
    "    django.contrib.sessions – A session framework.\n",
    "    django.contrib.messages – A messaging framework.\n",
    "    django.contrib.staticfiles – A framework for managing static files.\n",
    "```\n",
    "These applications are included by default as a convenience for the common case.\n",
    "\n"
   ]
  },
  {
   "cell_type": "markdown",
   "metadata": {
    "slideshow": {
     "slide_type": "slide"
    }
   },
   "source": [
    "# Editing settings\n",
    "\n",
    "We see that:\n",
    "\n",
    "    TIME_ZONE = 'UTC'\n",
    "\n",
    "Damn Americans. Let's fix that:\n",
    "\n",
    "    TIME_ZONE = 'ZA'"
   ]
  },
  {
   "cell_type": "markdown",
   "metadata": {
    "slideshow": {
     "slide_type": "slide"
    }
   },
   "source": [
    "# Running a migration\n",
    "Some of these automatically included applications make use of at least one database table, though, so we need to create the tables in the database before we can use them. To do that, run the following command:\n",
    "```\n",
    "python manage.py migrate\n",
    "```\n",
    "The migrate command looks at the INSTALLED_APPS setting and creates any necessary database tables according to the database settings in your **project/settings.py** file and the database migrations shipped with the app.\n",
    "\n",
    "If you looked in your database you would see that new tables have been automatically created."
   ]
  },
  {
   "cell_type": "markdown",
   "metadata": {
    "slideshow": {
     "slide_type": "slide"
    }
   },
   "source": [
    "# Creating Models\n",
    "\n",
    "__Example: Survey app__\n",
    "\n",
    "<img src=\"images/multiple-choice.gif\">"
   ]
  },
  {
   "cell_type": "markdown",
   "metadata": {
    "slideshow": {
     "slide_type": "slide"
    }
   },
   "source": [
    "# SQL Schema\n",
    "\n",
    "How would this look as a SQL schema?\n",
    "\n",
    "| Question              |\n",
    "|-----------------------|\n",
    "| question_text: string |\n",
    "| pub_date: date        |\n",
    "\n",
    "\n",
    "| Choice                |\n",
    "|-----------------------|\n",
    "| question: foreign key |\n",
    "| choice_text: string   |\n",
    "| votes: integer        |\n"
   ]
  },
  {
   "cell_type": "markdown",
   "metadata": {
    "slideshow": {
     "slide_type": "slide"
    }
   },
   "source": [
    "# Meet Django Model\n",
    "\n",
    "This is how it looks as a django model (`models.py`):\n",
    "\n",
    "```\n",
    "from django.db import models\n",
    "\n",
    "class Question(models.Model):\n",
    "    question_text = models.CharField(max_length=200)\n",
    "    pub_date = models.DateTimeField('date published')\n",
    "\n",
    "class Choice(models.Model):\n",
    "    question = models.ForeignKey(Question, on_delete=models.CASCADE)\n",
    "    choice_text = models.CharField(max_length=200)\n",
    "    votes = models.IntegerField(default=0)\n",
    "```"
   ]
  },
  {
   "cell_type": "markdown",
   "metadata": {
    "slideshow": {
     "slide_type": "slide"
    }
   },
   "source": [
    "# The Mastermind Schema\n",
    "\n",
    "Each mastermind Game has 1 solution, and many attempts.\n",
    "\n",
    "The Game solution is compared with the Attempt guess.\n",
    "\n",
    "<img src=\"http://imgur.com/4skRUcd.png\"/>"
   ]
  },
  {
   "cell_type": "markdown",
   "metadata": {
    "slideshow": {
     "slide_type": "slide"
    }
   },
   "source": [
    "# The Mastermind Models\n",
    "\n",
    "### Let's define the models in `models.py`\n",
    "\n",
    "    from django.db import models\n",
    "    \n",
    "    class Game(models.Model):\n",
    "        solution = models.CharField(max_length=10)\n",
    "        handle = models.CharField(max_length=25, blank=True)\n",
    "    \n",
    "        def __str__(self):\n",
    "            return self.solution\n",
    "    \n",
    "    class Attempt(models.Model):\n",
    "        game = models.ForeignKey(Game)\n",
    "        guess = models.CharField(max_length=10)\n",
    "    \n",
    "        def __str__(self):\n",
    "            return self.guess\n"
   ]
  },
  {
   "cell_type": "markdown",
   "metadata": {
    "slideshow": {
     "slide_type": "slide"
    }
   },
   "source": [
    "# Activating models\n",
    "\n",
    "That small bit of model code gives Django a lot of information. With it, Django is able to:\n",
    "\n",
    "* Create a database schema. Under the hood, it generates all the necessary `CREATE TABLE...` SQL for this app.\n",
    "* Create a Python database-access API for accessing Game and Attempt objects."
   ]
  },
  {
   "cell_type": "markdown",
   "metadata": {
    "slideshow": {
     "slide_type": "slide"
    }
   },
   "source": [
    "# Making the project aware of the app\n",
    "\n",
    "But first we need to tell our project that the app is installed.\n",
    "\n",
    "Edit the `project/settings.py` file again, and change the INSTALLED_APPS setting to include `'apps.mastermind'`. For It’ll look like this:\n",
    "`project/settings.py`\n",
    "\n",
    "```\n",
    "INSTALLED_APPS = [\n",
    "    'mastermind.apps.MastermindConfig',\n",
    "    'django.contrib.admin',\n",
    "    'django.contrib.auth',\n",
    "    'django.contrib.contenttypes',\n",
    "    'django.contrib.sessions',\n",
    "    'django.contrib.messages',\n",
    "    'django.contrib.staticfiles',\n",
    "]\n",
    "```\n",
    "\n",
    "Now Django knows to include the mastermind app.\n"
   ]
  },
  {
   "cell_type": "markdown",
   "metadata": {
    "slideshow": {
     "slide_type": "slide"
    }
   },
   "source": [
    "# From model change to migration\n",
    "\n",
    "We now need to actually create database tables, which correspond to the models we've just defined. Instead of manually doing so using SQL, we can get Django to automatically generate the migration to effect the change we need. Let's do this now:\n",
    "```\n",
    "python manage.py makemigrations mastermind\n",
    "python manage.py migrate\n",
    "\n",
    "```\n",
    "\n",
    "We'll need to keep generating these migrations to keep the database in sync with model changes.\n",
    "\n",
    "Here are the steps we'll need to follow to so:\n",
    "\n",
    "1. Change models in `models.py`\n",
    "2. `python manage.py makemigrations`  ( __create__ the migrations )\n",
    "3. `python manage.py migrate` (**apply** the created migrations to database)"
   ]
  },
  {
   "cell_type": "markdown",
   "metadata": {
    "slideshow": {
     "slide_type": "slide"
    }
   },
   "source": [
    "# Interacting with the models\n",
    "\n",
    "Let's look at how we'd interact with the poll examples:\n",
    "Now, let’s hop into the interactive Python shell and play around with the free API Django gives you. To invoke the Python shell, use this command:\n",
    "\n",
    "```\n",
    "python manage.py shell\n",
    "```\n",
    "\n",
    "<< More stuff goes here >>\n"
   ]
  },
  {
   "cell_type": "markdown",
   "metadata": {
    "slideshow": {
     "slide_type": "slide"
    }
   },
   "source": [
    "# Basic Templating\n",
    "\n",
    "```\n",
    "Hello world {{ name }}\n",
    "```\n"
   ]
  },
  {
   "cell_type": "markdown",
   "metadata": {
    "slideshow": {
     "slide_type": "slide"
    }
   },
   "source": [
    "# Now let's build the mastermind app\n",
    "\n",
    " - Copy over the game interface, which allows guessing\n",
    " - Receive and print the posted guess\n",
    " - Use the provided game engine to test your guess against a hardcoded solution\n",
    " - Improve game interface to show result of just the last submitted guess\n",
    " - Up until now, you only had a single solution that may be guessed against for all eternity. Now, everytime the user accesses the **/mastermind** URL, we:\n",
    "     - create a new game object in database\n",
    "     - allow the newly created game to be played by visiting **/mastermind/play/123**, if the created game has an id of 123\n",
    "         - set the game id (eg. 123) as a URL paramater\n",
    "         - Now we'll know which Game we need to render when handling a URL\n",
    "         - Retrieve that Game from the database. We'll then have access to its solution.\n",
    "         - Retrieve all Guesses associated with the Game\n",
    "         - Set the associated Guesses and Game instance as context, which is inserted into the template\n",
    "         - attach feedback to each associated guess before it is included in context and rendered\n",
    "         - \n",
    "\n",
    "\n",
    "\n",
    "\n"
   ]
  },
  {
   "cell_type": "markdown",
   "metadata": {
    "slideshow": {
     "slide_type": "slide"
    }
   },
   "source": [
    "# Render a guessing form\n",
    "\n",
    "The interface, **play_simple.html**,  can be found in the appendix [here](https://github.com/super-cache-money/meet-django/blob/master/day2-django/appendix/play_simple.html).\n",
    "\n",
    "You'll notice it's a simple select control. \n",
    "\n",
    "Let's copy it into the **app/mastermind/templates** folder, which  you'll need to create. \n",
    "\n",
    "Just chucking it in wont achieve anything alone. We'll need to reference it. How do we do that? \n",
    "\n",
    "In **views.py** `index(request)`, we no longer want to `return HttpResponse(\"Hi, hello world.\")`.\n",
    "\n",
    "Let's instead render our new interface template,\n",
    "\n",
    "    def index(request):\n",
    "\n",
    "        context = RequestContext(request, {});\n",
    "        return render(request, 'play_simple.html', context);\n",
    "\n",
    "To render using Django's `RequestContext`, we also need to: \n",
    "\n",
    "    from django.template import RequestContext\n",
    "    from django.shortcuts import render\n",
    "    \n",
    "The `RequestContext` is what's used to dynamically `render()` a template. Soon we'll populate `RequestContext` with data from the database, but for now, it's just blank. 😶\n",
    "\n",
    "\n",
    "\n"
   ]
  },
  {
   "cell_type": "markdown",
   "metadata": {
    "slideshow": {
     "slide_type": "slide"
    }
   },
   "source": [
    "# Receiving the posted guess \n",
    "\n",
    "What happens when the user submits our new form over at http://127.0.0.1:8000/mastermind ?\n",
    "\n",
    "**Nothing**\n",
    "\n",
    "Let's change that. We'll print out the guess on the server, on every submission.\n",
    "\n",
    "Within **play_simple.html**, we'll notice that the form submits to `#`, which is basically the URL it was fetched from.\n",
    "\n",
    "Therefore, let's change how the empty (or index) URL is handled by **views.py**.\n",
    "\n",
    "We'll need to execute some code in the `index(request)` handler, which only runs during a `POST` request (a submission, not just accessing the URL):\n",
    "\n",
    "\tif (request.method == 'POST'):\n",
    "\t\tpos_one = request.POST['pos_one']\n",
    "        pos_two = request.POST['pos_two']\n",
    "        pos_three = request.POST['pos_three']\n",
    "        pos_four = request.POST['pos_four']\n",
    "\n",
    "        guess = pos_one + pos_two + pos_three + pos_four\n",
    "\n",
    "        print('Posted guess was', guess);\n",
    "        \n",
    "After processing the posted request on form submission, the same original rendering code is run afterwards. \n",
    "\n",
    "    "
   ]
  },
  {
   "cell_type": "markdown",
   "metadata": {
    "slideshow": {
     "slide_type": "slide"
    }
   },
   "source": [
    "# Using the game engine provided\n",
    "\n",
    "We're going to check the guess against the solution, and print out the results.\n",
    "\n",
    "The engine from yesterday's Task 2 solution has been provided in the appendix, [here](https://raw.githubusercontent.com/super-cache-money/meet-django/master/day2-django/appendix/mastermind_engine.py).\n",
    "\n",
    "Copy it into a newly created **mastermind_engine.py** file within your root folder, alongside your app and project folders.\n",
    "\n",
    "Within our **views.py** , we'll change `index(request)` to the following:\n",
    "\n",
    "```\n",
    "def index(request):\n",
    "\n",
    "    if(request.method == 'POST'):\n",
    "        pos_one = request.POST['pos_one']\n",
    "        pos_two = request.POST['pos_two']\n",
    "        pos_three = request.POST['pos_three']\n",
    "        pos_four = request.POST['pos_four']\n",
    "\n",
    "        guess = pos_one + pos_two + pos_three + pos_four\n",
    "        result = check_guess('RRGB', guess);\n",
    "\n",
    "        print('Posted guess was', guess)\n",
    "        print('Comparison result is', result)\n",
    "\n",
    "\n",
    "    context = RequestContext(request, {})\n",
    "    return render(request, 'play_simple.html', context)\n",
    "```\n",
    "\n",
    "To use the `check_guess` method, at the start of the file, we'll:\n",
    "\n",
    "    from mastermind_engine import check_guess\n"
   ]
  },
  {
   "cell_type": "markdown",
   "metadata": {
    "collapsed": true,
    "slideshow": {
     "slide_type": "slide"
    }
   },
   "source": [
    "# Rendering the last guess and result in the template\n",
    "\n",
    "Instead of just printing the last guess and result in the template, we should actually show it to the user. Right? **Right!**\n",
    "\n",
    "First we need to pass this result information into the rendered template, so let's change:\n",
    "\n",
    "    context = RequestContext(request, {})\n",
    "    \n",
    "to:\n",
    "\n",
    "    context = RequestContext(request, {'result': result, 'guess': guess})\n",
    "    \n",
    "Also, we'll need to make sure that we initialise `result` and `guess` to `False`, if the request was a `GET` not a `POST`. \n",
    "    \n",
    "Now, we've actually added some context. Now when rendering, the template will be passed the `result` variable, which it may use in whatever way it defines. Let's define that now. To the top of the **<body>** in  **play_simple.html**, we'll add code to render result:\n",
    "\n",
    "    {% if result %}\n",
    "        <h2>\n",
    "            Your guess was {{guess}}\n",
    "        </h2>\n",
    "        <h3>\n",
    "            You managed to get {{ result.correct_color }} colour(s) correct\n",
    "        </h3>\n",
    "        <h3>\n",
    "            You managed to get \n",
    "            {{ result.correct_position_and_color }}\n",
    "            position(s) and colour(s) correct\n",
    "        </h3>       \n",
    "    {% endif %}\n",
    "\n"
   ]
  },
  {
   "cell_type": "markdown",
   "metadata": {
    "slideshow": {
     "slide_type": "slide"
    }
   },
   "source": [
    "# We need to show all historical guesses\n",
    "\n",
    "We aren't storing these anywhere. It's time to make use of those models we defined, `Game` and `Attempt`.\n",
    "\n",
    "Creating a new game:\n",
    "\n",
    " 1. User visits /mastermind\n",
    " 2. A new Game() model instance is generated with a random solution\n",
    " 3. We redirect the user to `/mastermind/game/123`, where `123` is the `id` of the new `Game` instance\n",
    " \n",
    "Rendering an existing game:\n",
    "\n",
    " 1. User visits `/mastermind/game/123`\n",
    " 2. `123` is passed to the URL handling function \n",
    " 3. We find the Game instance which has id `123`\n",
    " 4. We find all guesses associated with this game thus far\n",
    " 5. We render all of this information\n",
    " \n",
    "*Phew*\n",
    "\n"
   ]
  },
  {
   "cell_type": "markdown",
   "metadata": {
    "slideshow": {
     "slide_type": "slide"
    }
   },
   "source": [
    "# Creating a new Game\n",
    "\n",
    "First let's define what aught to happen when creating a new game. \n",
    "\n",
    "Within **urls.py**, let's create a *create_game* method. It isn't going to render anything, which is why it doens't belong in `views.py`.\n",
    "\n",
    "```\n",
    "def create_game(request):\n",
    "        game = Game()\n",
    "        game.solution = generate_solution()\n",
    "        game.save()\n",
    "\n",
    "        return redirect('/game/'+str(game.id))\n",
    "```\n",
    "\n",
    "We'll also need some extra imports here:\n",
    "\n",
    "    from mastermind_engine import generate_solution\n",
    "    from .models import Game\n",
    "    from django.shortcuts import redirect\n",
    "\n",
    "Let's change the root index to, instead of directing to `views.index`, rather direct to our `create_game`:\n",
    "\n",
    "    url(r'^$', create_game)\n"
   ]
  },
  {
   "cell_type": "markdown",
   "metadata": {
    "slideshow": {
     "slide_type": "slide"
    }
   },
   "source": [
    "# Extracting the game `id` from a URL\n",
    "\n",
    "When a user visits `/mastermind/game/123`, we need to strip out the `123` from the URL, so we can use it to pull out the correct Game from the database.\n",
    "\n",
    "We need to change this line in **urls.py**:\n",
    "\n",
    "    url(r'^$', views.index)\n",
    "    \n",
    "To:\n",
    "\n",
    "    url(r'^game/(?P<id>[0-9]+)', views.play)\n",
    "\n",
    "Let's also rename the `index()` method to `play(id)` in **views.py**, since it's more appropriate, and now receives the a paramater, which is the stripped out `id`.\n"
   ]
  },
  {
   "cell_type": "markdown",
   "metadata": {
    "slideshow": {
     "slide_type": "slide"
    }
   },
   "source": [
    "# Render a Game from an `id`\n",
    "\n",
    "Now, within **views.py**, we're going to have to pull out all the information necessary to render a game from the database, and prepare the context for the template to be rendered.\n",
    "\n",
    "We'll need to upgrade the `play()` method.\n",
    "\n",
    "This isn't going to fit on a slide, so:\n",
    "\n",
    "- brace yourself\n",
    "- view it [here](https://github.com/super-cache-money/meet-django/blob/master/day2-django/appendix/play.py)"
   ]
  },
  {
   "cell_type": "markdown",
   "metadata": {
    "slideshow": {
     "slide_type": "slide"
    }
   },
   "source": [
    "# Upgrading the template\n",
    "\n",
    "With all our shiny new context, we need to alter our template to render it all.\n",
    "\n",
    "We'll need to loop through all the guesses and their feedback:\n",
    "\n",
    "```\n",
    "{% for attempt in attempts %}\n",
    "<div>\n",
    " {{attempt.guess}}\n",
    "    ->\n",
    "    <span class=\"right-position\">{{attempt.result.correct_position_and_color}} position(s) correct, </span>\n",
    "    <span class=\"right-color\">{{attempt.result.correct_color}} color(s) correct </span>\n",
    "</div>\n",
    "{% endfor %}\n",
    "```\n",
    "\n",
    "You can view the full template [here](https://github.com/super-cache-money/meet-django/blob/master/day2-django/appendix/play_simple.html)\n"
   ]
  },
  {
   "cell_type": "markdown",
   "metadata": {
    "slideshow": {
     "slide_type": "slide"
    }
   },
   "source": [
    "# And...it runs!"
   ]
  },
  {
   "cell_type": "markdown",
   "metadata": {
    "slideshow": {
     "slide_type": "fragment"
    }
   },
   "source": [
    "or not?"
   ]
  },
  {
   "cell_type": "markdown",
   "metadata": {},
   "source": [
    "# Over to you\n",
    "\n",
    "There's lots to upgrade:\n",
    "\n",
    "- Remove \"(s)\" from templates, i.e. detect singular vs plural\n",
    "- Remove `/mastermind` from all URLs\n",
    "- On win: show message and save handle \n",
    "- Do leaderboard"
   ]
  }
 ],
 "metadata": {
  "celltoolbar": "Slideshow",
  "kernelspec": {
   "display_name": "Python 3",
   "language": "python",
   "name": "python3"
  },
  "language_info": {
   "codemirror_mode": {
    "name": "ipython",
    "version": 3
   },
   "file_extension": ".py",
   "mimetype": "text/x-python",
   "name": "python",
   "nbconvert_exporter": "python",
   "pygments_lexer": "ipython3",
   "version": "3.5.1"
  }
 },
 "nbformat": 4,
 "nbformat_minor": 0
}
